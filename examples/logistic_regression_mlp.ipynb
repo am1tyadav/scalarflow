{
 "cells": [
  {
   "cell_type": "code",
   "execution_count": null,
   "metadata": {},
   "outputs": [],
   "source": [
    "import scalarflow as sf\n",
    "import random\n",
    "import math"
   ]
  },
  {
   "cell_type": "markdown",
   "metadata": {},
   "source": [
    "Create data for logistic regression."
   ]
  },
  {
   "cell_type": "code",
   "execution_count": null,
   "metadata": {},
   "outputs": [],
   "source": [
    "random.seed(0)\n",
    "\n",
    "\n",
    "def create_data(num_examples: int = 100):\n",
    "    \"\"\"Creates data for a logistic regression example.\n",
    "\n",
    "    y = a * sin(x1) + b * cos(x2) + c\n",
    "    \"\"\"\n",
    "\n",
    "    def f(x1, x2):\n",
    "        value = 4 * math.sin(x1) - 2 * math.cos(x2) - 1.5\n",
    "        return float(value > -1)\n",
    "\n",
    "    x1s = [random.random() for _ in range(0, num_examples)]\n",
    "    x2s = [random.random() for _ in range(0, num_examples)]\n",
    "\n",
    "    examples = list(zip(x1s, x2s))\n",
    "    labels = [f(x1, x2) for x1, x2 in examples]\n",
    "\n",
    "    return examples, labels\n",
    "\n",
    "\n",
    "create_data(1)"
   ]
  },
  {
   "cell_type": "code",
   "execution_count": null,
   "metadata": {},
   "outputs": [],
   "source": [
    "mlp = sf.MLP(\n",
    "    layers=(\n",
    "        sf.Dense(output_dim=2, input_dim=2),\n",
    "        sf.Dense(output_dim=1, input_dim=2, activation=sf.sigmoid),\n",
    "    )\n",
    ")\n",
    "\n",
    "examples, labels = create_data()"
   ]
  },
  {
   "cell_type": "code",
   "execution_count": null,
   "metadata": {},
   "outputs": [],
   "source": [
    "# Sanity check that count of positive vs negative examples isn't too different\n",
    "\n",
    "sum(labels)"
   ]
  },
  {
   "cell_type": "code",
   "execution_count": null,
   "metadata": {},
   "outputs": [],
   "source": [
    "mlp.fit(\n",
    "    examples=examples,\n",
    "    labels=labels,\n",
    "    epochs=200,\n",
    "    batch_size=4,\n",
    "    loss_fn=sf.mean_squared_error,\n",
    "    lr=0.009,\n",
    "    log_interval=20,\n",
    "    show_accuracy=True,\n",
    ")"
   ]
  },
  {
   "cell_type": "code",
   "execution_count": null,
   "metadata": {},
   "outputs": [],
   "source": []
  }
 ],
 "metadata": {
  "kernelspec": {
   "display_name": "Python 3.10.8 ('venv': venv)",
   "language": "python",
   "name": "python3"
  },
  "language_info": {
   "codemirror_mode": {
    "name": "ipython",
    "version": 3
   },
   "file_extension": ".py",
   "mimetype": "text/x-python",
   "name": "python",
   "nbconvert_exporter": "python",
   "pygments_lexer": "ipython3",
   "version": "3.10.8"
  },
  "orig_nbformat": 4,
  "vscode": {
   "interpreter": {
    "hash": "268386ebd8cfd5edd380e3ed4515d6c0895b9e1c247e9d9399fb37c48c4b9bee"
   }
  }
 },
 "nbformat": 4,
 "nbformat_minor": 2
}
