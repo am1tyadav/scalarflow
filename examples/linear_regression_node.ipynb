{
 "cells": [
  {
   "cell_type": "code",
   "execution_count": null,
   "metadata": {},
   "outputs": [],
   "source": [
    "import scalarflow as sf\n",
    "import random"
   ]
  },
  {
   "cell_type": "markdown",
   "metadata": {},
   "source": [
    "Create data for linear regression."
   ]
  },
  {
   "cell_type": "code",
   "execution_count": null,
   "metadata": {},
   "outputs": [],
   "source": [
    "def create_data(num_examples: int = 100):\n",
    "    \"\"\"Creates data for a linear regression example.\n",
    "\n",
    "    y = w1 * x1 + w2 * x2 + b + (some noise)\n",
    "    \"\"\"\n",
    "\n",
    "    w1 = 3\n",
    "    w2 = -2\n",
    "    b = 7\n",
    "\n",
    "    def f(x1, x2):\n",
    "        return w1 * x1 + w2 * x2 + b + random.random() / 10.0\n",
    "\n",
    "    x1s = [random.random() for _ in range(0, num_examples)]\n",
    "    x2s = [random.random() for _ in range(0, num_examples)]\n",
    "\n",
    "    examples = list(zip(x1s, x2s))\n",
    "    labels = [f(x1, x2) for x1, x2 in examples]\n",
    "\n",
    "    return examples, labels\n",
    "\n",
    "\n",
    "create_data(1)"
   ]
  },
  {
   "cell_type": "markdown",
   "metadata": {},
   "source": [
    "For linear regression, we just need a single Node without any activation function."
   ]
  },
  {
   "cell_type": "code",
   "execution_count": null,
   "metadata": {},
   "outputs": [],
   "source": [
    "linear_model = sf.node.Node(num_inputs=2)\n",
    "\n",
    "examples, labels = create_data()"
   ]
  },
  {
   "cell_type": "markdown",
   "metadata": {},
   "source": [
    "We will use a simple stochastic gradient descent approach."
   ]
  },
  {
   "cell_type": "code",
   "execution_count": null,
   "metadata": {},
   "outputs": [],
   "source": [
    "for iteration in range(0, 100):\n",
    "    total_loss = 0\n",
    "\n",
    "    for example, label in zip(examples, labels):\n",
    "        prediction = linear_model(inputs=example)\n",
    "        loss = sf.losses.squared_error(label, prediction)\n",
    "        total_loss += loss.data\n",
    "\n",
    "        sf.training.optimisation_step(root=loss, lr=0.01)\n",
    "\n",
    "    if iteration % 10 == 0:\n",
    "        print(\"Iteration\", iteration, \"Loss\", total_loss)\n",
    "\n",
    "print(\"Iteration\", iteration, \"Loss\", total_loss)"
   ]
  },
  {
   "cell_type": "markdown",
   "metadata": {},
   "source": [
    "After the training, the model weights should correspond to the ones we used in the `create_data` function."
   ]
  },
  {
   "cell_type": "code",
   "execution_count": null,
   "metadata": {},
   "outputs": [],
   "source": [
    "linear_model.summary()"
   ]
  },
  {
   "cell_type": "code",
   "execution_count": null,
   "metadata": {},
   "outputs": [],
   "source": []
  }
 ],
 "metadata": {
  "kernelspec": {
   "display_name": "Python 3.11.0 ('scalarflow')",
   "language": "python",
   "name": "python3"
  },
  "language_info": {
   "codemirror_mode": {
    "name": "ipython",
    "version": 3
   },
   "file_extension": ".py",
   "mimetype": "text/x-python",
   "name": "python",
   "nbconvert_exporter": "python",
   "pygments_lexer": "ipython3",
   "version": "3.11.0"
  },
  "orig_nbformat": 4,
  "vscode": {
   "interpreter": {
    "hash": "1c79908021b526b448e0f01fc481fb4c5ee253f538432784f4f93b2586321733"
   }
  }
 },
 "nbformat": 4,
 "nbformat_minor": 2
}
