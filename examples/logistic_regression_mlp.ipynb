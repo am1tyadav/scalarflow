{
 "cells": [
  {
   "cell_type": "code",
   "execution_count": null,
   "metadata": {},
   "outputs": [],
   "source": [
    "import scalarflow as sf\n",
    "import random\n",
    "import math"
   ]
  },
  {
   "cell_type": "markdown",
   "metadata": {},
   "source": [
    "Create data for logistic regression."
   ]
  },
  {
   "cell_type": "code",
   "execution_count": null,
   "metadata": {},
   "outputs": [],
   "source": [
    "random.seed(0)\n",
    "\n",
    "\n",
    "def create_data(num_examples: int = 100):\n",
    "    \"\"\"Creates data for a logistic regression example.\n",
    "\n",
    "    y = a * sin(x1) + b * cos(x2) + c\n",
    "    \"\"\"\n",
    "\n",
    "    def f(x1, x2):\n",
    "        value = 4 * math.sin(x1) - 2 * math.cos(x2) - 1.5\n",
    "        return float(value > -1)\n",
    "\n",
    "    x1s = [random.random() for _ in range(0, num_examples)]\n",
    "    x2s = [random.random() for _ in range(0, num_examples)]\n",
    "\n",
    "    examples = list(zip(x1s, x2s))\n",
    "    labels = [f(x1, x2) for x1, x2 in examples]\n",
    "\n",
    "    return examples, labels\n",
    "\n",
    "\n",
    "create_data(1)"
   ]
  },
  {
   "cell_type": "code",
   "execution_count": null,
   "metadata": {},
   "outputs": [],
   "source": [
    "mlp = sf.models.MLP(\n",
    "    layers=(\n",
    "        sf.layers.Dense(output_dim=2, input_dim=2),\n",
    "        sf.layers.Dense(output_dim=1, input_dim=2, activation=sf.operators.sigmoid),\n",
    "    )\n",
    ")\n",
    "\n",
    "examples, labels = create_data()"
   ]
  },
  {
   "cell_type": "code",
   "execution_count": null,
   "metadata": {},
   "outputs": [],
   "source": [
    "# Sanity check that count of positive vs negative examples isn't too different\n",
    "\n",
    "sum(labels)"
   ]
  },
  {
   "cell_type": "code",
   "execution_count": null,
   "metadata": {},
   "outputs": [],
   "source": [
    "mlp.fit(\n",
    "    examples=examples,\n",
    "    labels=labels,\n",
    "    epochs=200,\n",
    "    batch_size=4,\n",
    "    loss_fn=sf.losses.mean_squared_error,\n",
    "    lr=0.009,\n",
    "    log_interval=20,\n",
    "    show_accuracy=True,\n",
    ")"
   ]
  },
  {
   "cell_type": "code",
   "execution_count": null,
   "metadata": {},
   "outputs": [],
   "source": []
  }
 ],
 "metadata": {
  "kernelspec": {
   "display_name": "Python 3.11.0 ('scalarflow')",
   "language": "python",
   "name": "python3"
  },
  "language_info": {
   "codemirror_mode": {
    "name": "ipython",
    "version": 3
   },
   "file_extension": ".py",
   "mimetype": "text/x-python",
   "name": "python",
   "nbconvert_exporter": "python",
   "pygments_lexer": "ipython3",
   "version": "3.11.0"
  },
  "orig_nbformat": 4,
  "vscode": {
   "interpreter": {
    "hash": "1c79908021b526b448e0f01fc481fb4c5ee253f538432784f4f93b2586321733"
   }
  }
 },
 "nbformat": 4,
 "nbformat_minor": 2
}
