{
 "cells": [
  {
   "cell_type": "code",
   "execution_count": null,
   "metadata": {},
   "outputs": [],
   "source": [
    "import scalarflow as sf\n",
    "import random\n",
    "import math"
   ]
  },
  {
   "cell_type": "markdown",
   "metadata": {},
   "source": [
    "Create data for logistic regression."
   ]
  },
  {
   "cell_type": "code",
   "execution_count": null,
   "metadata": {},
   "outputs": [],
   "source": [
    "random.seed(0)\n",
    "\n",
    "\n",
    "def create_data(num_examples: int = 100):\n",
    "    \"\"\"Creates data for a logistic regression example.\n",
    "\n",
    "    y = a * sin(x1) + b * cos(x2) + c\n",
    "    \"\"\"\n",
    "\n",
    "    def f(x1, x2):\n",
    "        value = 4 * math.sin(x1) - 2 * math.cos(x2) - 1.5\n",
    "        return float(value > -1)\n",
    "\n",
    "    x1s = [random.random() for _ in range(0, num_examples)]\n",
    "    x2s = [random.random() for _ in range(0, num_examples)]\n",
    "\n",
    "    examples = list(zip(x1s, x2s))\n",
    "    labels = [f(x1, x2) for x1, x2 in examples]\n",
    "\n",
    "    return examples, labels\n",
    "\n",
    "\n",
    "create_data(1)"
   ]
  },
  {
   "cell_type": "markdown",
   "metadata": {},
   "source": [
    "For logistic regression, we just need a single Node with Sigmoid activation function."
   ]
  },
  {
   "cell_type": "code",
   "execution_count": null,
   "metadata": {},
   "outputs": [],
   "source": [
    "logistic_model = sf.node.Node(num_inputs=2, activation=sf.operators.sigmoid)\n",
    "\n",
    "examples, labels = create_data()"
   ]
  },
  {
   "cell_type": "code",
   "execution_count": null,
   "metadata": {},
   "outputs": [],
   "source": [
    "# Sanity check that count of positive vs negative examples isn't too different\n",
    "\n",
    "sum(labels)"
   ]
  },
  {
   "cell_type": "markdown",
   "metadata": {},
   "source": [
    "We will use a simple gradient descent with optimisation done on all examples per iteration."
   ]
  },
  {
   "cell_type": "code",
   "execution_count": null,
   "metadata": {},
   "outputs": [],
   "source": [
    "iterations = 1000\n",
    "log_at = 100\n",
    "threshold = 0.5\n",
    "learning_rate = 0.2\n",
    "\n",
    "\n",
    "for iteration in range(0, iterations):\n",
    "    predictions = []\n",
    "\n",
    "    for example, label in zip(examples, labels):\n",
    "        predictions.append(logistic_model(inputs=example))\n",
    "\n",
    "    loss = sf.losses.mean_squared_error(labels, predictions)\n",
    "\n",
    "    sf.training.optimisation_step(root=loss, lr=learning_rate)\n",
    "\n",
    "    accuracy = sum(\n",
    "        [\n",
    "            float(prediction.data > threshold) == label\n",
    "            for prediction, label in zip(predictions, labels)\n",
    "        ]\n",
    "    ) / len(labels)\n",
    "\n",
    "    if iteration % log_at == 0:\n",
    "        print(\"Iteration\", iteration, \"Loss\", loss.data, \"Accuracy\", accuracy)\n",
    "\n",
    "print(\"Iteration\", iteration, \"Loss\", loss.data, \"Accuracy\", accuracy)"
   ]
  },
  {
   "cell_type": "code",
   "execution_count": null,
   "metadata": {},
   "outputs": [],
   "source": []
  }
 ],
 "metadata": {
  "kernelspec": {
   "display_name": "Python 3.11.0 ('scalarflow')",
   "language": "python",
   "name": "python3"
  },
  "language_info": {
   "codemirror_mode": {
    "name": "ipython",
    "version": 3
   },
   "file_extension": ".py",
   "mimetype": "text/x-python",
   "name": "python",
   "nbconvert_exporter": "python",
   "pygments_lexer": "ipython3",
   "version": "3.11.0"
  },
  "orig_nbformat": 4,
  "vscode": {
   "interpreter": {
    "hash": "1c79908021b526b448e0f01fc481fb4c5ee253f538432784f4f93b2586321733"
   }
  }
 },
 "nbformat": 4,
 "nbformat_minor": 2
}
